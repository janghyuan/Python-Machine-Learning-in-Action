{
 "cells": [
  {
   "cell_type": "markdown",
   "metadata": {},
   "source": [
    "## 集成模型\n",
    "\n",
    "1. 随机森林 Random Forest Classifier\n",
    "    构造多颗决策树，然后‘少数服从多数’\n",
    "2. 梯度提升决策树 Gradient Tree Boosting\n",
    "    在构造每一棵决策树后，都会对已有集成系统的预测效果提升"
   ]
  },
  {
   "cell_type": "code",
   "execution_count": 1,
   "metadata": {
    "collapsed": true
   },
   "outputs": [],
   "source": [
    "import pandas as pd"
   ]
  },
  {
   "cell_type": "code",
   "execution_count": 2,
   "metadata": {
    "collapsed": true
   },
   "outputs": [],
   "source": [
    "data = pd.read_excel(\"./titanic.xls\")"
   ]
  },
  {
   "cell_type": "code",
   "execution_count": 5,
   "metadata": {
    "collapsed": false
   },
   "outputs": [],
   "source": [
    "# 选取 pclass、sex、age 作为特征\n",
    "X = data[['pclass', 'sex', 'age']]\n",
    "y = data['survived']"
   ]
  },
  {
   "cell_type": "code",
   "execution_count": 6,
   "metadata": {
    "collapsed": false
   },
   "outputs": [
    {
     "name": "stderr",
     "output_type": "stream",
     "text": [
      "/Users/willing/anaconda2/lib/python2.7/site-packages/pandas/core/generic.py:3295: SettingWithCopyWarning: \n",
      "A value is trying to be set on a copy of a slice from a DataFrame\n",
      "\n",
      "See the caveats in the documentation: http://pandas.pydata.org/pandas-docs/stable/indexing.html#indexing-view-versus-copy\n",
      "  self._update_inplace(new_data)\n"
     ]
    }
   ],
   "source": [
    "# 使用平均年龄代替缺失值\n",
    "X['age'].fillna(X['age'].mean(), inplace=True)"
   ]
  },
  {
   "cell_type": "code",
   "execution_count": 7,
   "metadata": {
    "collapsed": true
   },
   "outputs": [],
   "source": [
    "# 划分数据集为 训练、测试\n",
    "from sklearn.model_selection import train_test_split\n",
    "X_train, X_test, y_train, y_test = train_test_split(X, y, test_size=0.25, random_state=33)"
   ]
  },
  {
   "cell_type": "code",
   "execution_count": 8,
   "metadata": {
    "collapsed": true
   },
   "outputs": [],
   "source": [
    "# 把类别型数据（sex）向量化\n",
    "from sklearn.feature_extraction import DictVectorizer\n",
    "\n",
    "vec = DictVectorizer(sparse=False)\n",
    "X_train = vec.fit_transform(X_train.to_dict(orient='record'))\n",
    "X_test  = vec.transform(X_test.to_dict(orient='record'))"
   ]
  },
  {
   "cell_type": "code",
   "execution_count": 9,
   "metadata": {
    "collapsed": false
   },
   "outputs": [
    {
     "name": "stdout",
     "output_type": "stream",
     "text": [
      "The accuracy of DecisionTreeClassifier: 0.810975609756\n",
      "             precision    recall  f1-score   support\n",
      "\n",
      "       died       0.84      0.88      0.86       210\n",
      "   survived       0.76      0.69      0.73       118\n",
      "\n",
      "avg / total       0.81      0.81      0.81       328\n",
      "\n"
     ]
    }
   ],
   "source": [
    "# 1. 使用单一决策树\n",
    "from sklearn.tree import DecisionTreeClassifier\n",
    "from sklearn.metrics import classification_report\n",
    "\n",
    "dtc = DecisionTreeClassifier()\n",
    "dtc.fit(X_train, y_train)\n",
    "dtc_y_predict = dtc.predict(X_test)\n",
    "\n",
    "print \"The accuracy of DecisionTreeClassifier:\", dtc.score(X_test, y_test)\n",
    "print classification_report(y_test, dtc_y_predict, target_names=['died', 'survived'])"
   ]
  },
  {
   "cell_type": "code",
   "execution_count": 11,
   "metadata": {
    "collapsed": false
   },
   "outputs": [
    {
     "name": "stdout",
     "output_type": "stream",
     "text": [
      " The accuracy of RandomForestClassifier: 0.810975609756\n",
      "             precision    recall  f1-score   support\n",
      "\n",
      "       died       0.85      0.86      0.85       210\n",
      "   survived       0.75      0.72      0.73       118\n",
      "\n",
      "avg / total       0.81      0.81      0.81       328\n",
      "\n"
     ]
    }
   ],
   "source": [
    "# 2. 使用随机森林\n",
    "from sklearn.ensemble import RandomForestClassifier\n",
    "\n",
    "rfc = RandomForestClassifier()\n",
    "rfc.fit(X_train, y_train)\n",
    "rfc_y_predict = rfc.predict(X_test)\n",
    "\n",
    "print \"The accuracy of RandomForestClassifier:\", rfc.score(X_test, y_test)\n",
    "print classification_report(y_test, rfc_y_predict, target_names=['died', 'survived'])"
   ]
  },
  {
   "cell_type": "code",
   "execution_count": 12,
   "metadata": {
    "collapsed": false
   },
   "outputs": [
    {
     "name": "stdout",
     "output_type": "stream",
     "text": [
      "The accuracy of GradientBoostingClassifier: 0.807926829268\n",
      "             precision    recall  f1-score   support\n",
      "\n",
      "       died       0.84      0.86      0.85       210\n",
      "   survived       0.74      0.71      0.73       118\n",
      "\n",
      "avg / total       0.81      0.81      0.81       328\n",
      "\n"
     ]
    }
   ],
   "source": [
    "# 3. 使用梯度提升决策树\n",
    "from sklearn.ensemble import GradientBoostingClassifier\n",
    "\n",
    "gbc = GradientBoostingClassifier()\n",
    "gbc.fit(X_train, y_train)\n",
    "gbc_y_predict = gbc.predict(X_test)\n",
    "\n",
    "print \"The accuracy of GradientBoostingClassifier:\", gbc.score(X_test, y_test)\n",
    "print classification_report(y_test, gbc_y_predict, target_names=['died', 'survived'])"
   ]
  },
  {
   "cell_type": "code",
   "execution_count": null,
   "metadata": {
    "collapsed": true
   },
   "outputs": [],
   "source": []
  }
 ],
 "metadata": {
  "kernelspec": {
   "display_name": "Python 2",
   "language": "python",
   "name": "python2"
  },
  "language_info": {
   "codemirror_mode": {
    "name": "ipython",
    "version": 2
   },
   "file_extension": ".py",
   "mimetype": "text/x-python",
   "name": "python",
   "nbconvert_exporter": "python",
   "pygments_lexer": "ipython2",
   "version": "2.7.13"
  }
 },
 "nbformat": 4,
 "nbformat_minor": 2
}
